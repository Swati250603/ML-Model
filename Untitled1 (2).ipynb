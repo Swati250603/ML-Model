{
  "nbformat": 4,
  "nbformat_minor": 0,
  "metadata": {
    "colab": {
      "provenance": []
    },
    "kernelspec": {
      "name": "python3",
      "display_name": "Python 3"
    },
    "language_info": {
      "name": "python"
    }
  },
  "cells": [
    {
      "cell_type": "code",
      "execution_count": 63,
      "metadata": {
        "id": "2O5JnbiGoJaJ",
        "colab": {
          "base_uri": "https://localhost:8080/"
        },
        "outputId": "ea361add-4878-4a5c-f178-ad7797e76109"
      },
      "outputs": [
        {
          "output_type": "stream",
          "name": "stdout",
          "text": [
            "   Unnamed: 0  YearsExperience   Salary\n",
            "0           0              1.2  39344.0\n",
            "1           1              1.4  46206.0\n",
            "2           2              1.6  37732.0\n",
            "3           3              2.1  43526.0\n",
            "4           4              2.3  39892.0\n"
          ]
        }
      ],
      "source": [
        "import pandas as pd\n",
        "import matplotlib.pyplot as plt\n",
        "\n",
        "from sklearn.model_selection import train_test_split\n",
        "from sklearn.linear_model import LinearRegression\n",
        "from sklearn.metrics import mean_squared_error\n",
        "\n",
        "#Loading the dataset\n",
        "data=pd.read_csv('Protocol-py.csv')\n",
        "\n",
        "#Displaying the first few rows\n",
        "print(data.head())\n",
        "\n"
      ]
    },
    {
      "cell_type": "markdown",
      "source": [],
      "metadata": {
        "id": "vXKJr7EIJgxW"
      }
    },
    {
      "cell_type": "code",
      "source": [
        "#displaying few first rows\n",
        "print(data.head())\n",
        "\n",
        "#Getting the information about the dataset\n",
        "print(data.info())"
      ],
      "metadata": {
        "id": "N3HdIyPxJCRd",
        "colab": {
          "base_uri": "https://localhost:8080/"
        },
        "outputId": "b1d070c4-2568-4d53-f870-ad421193f6f9"
      },
      "execution_count": 64,
      "outputs": [
        {
          "output_type": "stream",
          "name": "stdout",
          "text": [
            "   Unnamed: 0  YearsExperience   Salary\n",
            "0           0              1.2  39344.0\n",
            "1           1              1.4  46206.0\n",
            "2           2              1.6  37732.0\n",
            "3           3              2.1  43526.0\n",
            "4           4              2.3  39892.0\n",
            "<class 'pandas.core.frame.DataFrame'>\n",
            "RangeIndex: 30 entries, 0 to 29\n",
            "Data columns (total 3 columns):\n",
            " #   Column           Non-Null Count  Dtype  \n",
            "---  ------           --------------  -----  \n",
            " 0   Unnamed: 0       30 non-null     int64  \n",
            " 1   YearsExperience  30 non-null     float64\n",
            " 2   Salary           30 non-null     float64\n",
            "dtypes: float64(2), int64(1)\n",
            "memory usage: 848.0 bytes\n",
            "None\n"
          ]
        }
      ]
    },
    {
      "cell_type": "code",
      "source": [
        "#Displaying the descriptive statistics\n",
        "print(data.describe())\n",
        "\n",
        "print(data.isnull().sum())\n"
      ],
      "metadata": {
        "colab": {
          "base_uri": "https://localhost:8080/"
        },
        "id": "BVmAQfC9KSmk",
        "outputId": "f6ea2f34-709e-41cb-d83c-990e50bc2743"
      },
      "execution_count": 65,
      "outputs": [
        {
          "output_type": "stream",
          "name": "stdout",
          "text": [
            "       Unnamed: 0  YearsExperience         Salary\n",
            "count   30.000000        30.000000      30.000000\n",
            "mean    14.500000         5.413333   76004.000000\n",
            "std      8.803408         2.837888   27414.429785\n",
            "min      0.000000         1.200000   37732.000000\n",
            "25%      7.250000         3.300000   56721.750000\n",
            "50%     14.500000         4.800000   65238.000000\n",
            "75%     21.750000         7.800000  100545.750000\n",
            "max     29.000000        10.600000  122392.000000\n",
            "Unnamed: 0         0\n",
            "YearsExperience    0\n",
            "Salary             0\n",
            "dtype: int64\n"
          ]
        }
      ]
    },
    {
      "cell_type": "code",
      "source": [
        "#Splitting data into training and testing sets\n",
        "X=data[\"YearsExperience\"].values.reshape(-1, 1)\n",
        "Y=data[\"Salary\"]\n",
        "X_train, X_test, Y_train, Y_test=train_test_split(X, Y, test_size=0.2, random_state=42)\n",
        "\n"
      ],
      "metadata": {
        "id": "uT2BHHINKsfk"
      },
      "execution_count": 66,
      "outputs": []
    },
    {
      "cell_type": "code",
      "source": [
        "#Create a linear regression model\n",
        "model=LinearRegression()\n",
        "\n",
        "#Training the model\n",
        "model.fit(X_train, Y_train)\n",
        "\n",
        "#Make predictions on testing data\n",
        "Y_pred=model.predict(X_test)\n",
        "\n",
        "#Evaluate the model's performance\n",
        "mse=mean_squared_error(Y_test, Y_pred)\n",
        "\n",
        "print('Mean Squared Error')\n",
        "print(mse)\n",
        "print('coefficient:',model.coef_[0])\n",
        "print('intercept:',model.intercept_)"
      ],
      "metadata": {
        "colab": {
          "base_uri": "https://localhost:8080/"
        },
        "id": "B1uA2hGFLZA9",
        "outputId": "9e3d8553-e914-4522-c3f7-a96dc38f685b"
      },
      "execution_count": 67,
      "outputs": [
        {
          "output_type": "stream",
          "name": "stdout",
          "text": [
            "Mean Squared Error\n",
            "49830096.855908394\n",
            "coefficient: 9423.815323030976\n",
            "intercept: 24380.201479473704\n"
          ]
        }
      ]
    },
    {
      "cell_type": "code",
      "source": [
        "#Visualizing the model\n",
        "plt.scatter(X_test, Y_test, color='black')\n",
        "plt.plot(X_test, Y_pred, color='blue', linewidth=3)\n",
        "plt.xlabel('Years of Experience')\n",
        "plt.ylabel('Salary')\n",
        "plt.title('Model')\n",
        "plt.show()"
      ],
      "metadata": {
        "colab": {
          "base_uri": "https://localhost:8080/",
          "height": 472
        },
        "id": "bqIJgNd7OhoJ",
        "outputId": "f8dcb9ac-b2a7-423a-f514-820d1fd525fc"
      },
      "execution_count": 68,
      "outputs": [
        {
          "output_type": "display_data",
          "data": {
            "text/plain": [
              "<Figure size 640x480 with 1 Axes>"
            ],
            "image/png": "[encoded data removed]"
          },
          "metadata": {}
        }
      ]
    }
  ]
}